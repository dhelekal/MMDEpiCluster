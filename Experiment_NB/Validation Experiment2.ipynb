{
 "cells": [
  {
   "cell_type": "markdown",
   "metadata": {},
   "source": [
    "# Run validation experiment"
   ]
  },
  {
   "cell_type": "code",
   "execution_count": 1,
   "metadata": {},
   "outputs": [],
   "source": [
    "%load_ext rpy2.ipython"
   ]
  },
  {
   "cell_type": "markdown",
   "metadata": {},
   "source": [
    "### Simulate the data"
   ]
  },
  {
   "cell_type": "code",
   "execution_count": null,
   "metadata": {},
   "outputs": [],
   "source": [
    "%%bash\n",
    "export WD=./Simulation_result\n",
    "export CONF=$(pwd)/Exp_conf\n",
    "export SCRIPT=$(pwd)/../Simulation_Script/simulation.py\n",
    "\n",
    "mkdir ./Experiment_out\n",
    "mkdir $WD\n",
    "cd $WD\n",
    "\n",
    "for CONFIG in $CONF/*.json\n",
    "do\n",
    "    python3 $SCRIPT $CONFIG\n",
    "done"
   ]
  },
  {
   "cell_type": "markdown",
   "metadata": {},
   "source": [
    "### Traverse the simulation directory and enumerate all the data"
   ]
  },
  {
   "cell_type": "code",
   "execution_count": null,
   "metadata": {},
   "outputs": [],
   "source": [
    "%%R\n",
    "\n",
    "groups <- list.dirs(path = \"./Simulation_result\", full.names = TRUE, recursive = FALSE)\n",
    "\n",
    "datalist <- c()\n",
    "x <- c(\"Group\",\"Experiment\", \"Pattern\", \"Peak\", \"Path\")\n",
    "for (group in groups){\n",
    "    group_name <- basename(group)\n",
    "    experiments <- list.dirs(path = group, full.names = TRUE, recursive = FALSE)\n",
    "    for (experiment in experiments){\n",
    "        exp_name <- basename(experiment)\n",
    "        patterns <- list.dirs(path = experiment, full.names = TRUE, recursive = FALSE)\n",
    "        for (pattern in patterns) {\n",
    "            pattern_name <- basename(pattern)\n",
    "            peaks <- list.dirs(path = pattern, full.names = TRUE, recursive = FALSE)\n",
    "            for (peak in peaks) {\n",
    "                peak_name <- basename(peak)\n",
    "                peak_file <- list.files(path = peak, full.names = TRUE, recursive = FALSE)[1]\n",
    "                datalist <- rbind(datalist, c(group_name, exp_name, pattern_name, peak_name, peak_file))\n",
    "            }\n",
    "        }\n",
    "    }\n",
    "}\n",
    "\n",
    "data_df <- data.frame(datalist)\n",
    "colnames(data_df) <- x"
   ]
  },
  {
   "cell_type": "markdown",
   "metadata": {},
   "source": [
    "### Load the necessary libraries"
   ]
  },
  {
   "cell_type": "code",
   "execution_count": null,
   "metadata": {},
   "outputs": [],
   "source": [
    "%%R\n",
    "library(MMDiff2)\n",
    "library(reshape2)\n",
    "library(ggplot2)\n",
    "library(GenomicRanges)\n",
    "library(DiffBind)\n",
    "library(devtools)"
   ]
  },
  {
   "cell_type": "markdown",
   "metadata": {},
   "source": [
    "### Run MMD analysis on all peaks "
   ]
  },
  {
   "cell_type": "code",
   "execution_count": null,
   "metadata": {},
   "outputs": [],
   "source": [
    "%%R\n",
    "\n",
    "experiment_groups <- as.list(unique(data_df[['Group']]))\n",
    "\n",
    "for (exp_group in experiment_groups){\n",
    "\n",
    "    group_df <- subset(data_df, Group == exp_group)\n",
    "    group_dir <- paste0('./Experiment_out','/',exp_group)\n",
    "    dir.create(paste0(group_dir,'/'))\n",
    "    \n",
    "    n_mods <- 10\n",
    "\n",
    "    modnames <- sapply(0:9, function(i) paste0('mod_',i))\n",
    "    samplesheet <- data.frame(list(modnames, modnames, rep(1, 10), rep('Ctr', 10), rep(1,10), rep('macs', 10)))\n",
    "    colnames(samplesheet) <- c('SampleID', 'Tissue', 'Factor', 'Condition', 'Replicate', 'PeakCaller')\n",
    "    write.csv(samplesheet, paste0(group_dir,'/','SampleSheet.csv'), row.names=FALSE)\n",
    "    replicas <- as.list(unique(group_df[['Experiment']]))\n",
    "                     \n",
    "    for (replica in replicas){\n",
    "        replica_df <- subset(group_df, Experiment == replica)\n",
    "        peaks <- as.list(unique(replica_df[['Peak']]))\n",
    "        patterns <- as.list(unique(replica_df[['Pattern']]))\n",
    "                \n",
    "        ExperimentData <- list(genome='none',\n",
    "                                    dataDir='.',\n",
    "                                    sampleSheet =paste0(group_dir,'/','SampleSheet.csv'))\n",
    "        MetaData <- list('ExpData' = ExperimentData)\n",
    "        MMD <- DBAmmd(MetaData)\n",
    "        \n",
    "        chroms <- c()\n",
    "        for (pattern in patterns) {\n",
    "            pchr <- sapply(c(0:(length(peaks)-1)), function (x) paste0(pattern, \"_\", x))\n",
    "            chroms <- c(chroms, pchr)\n",
    "        }\n",
    "        \n",
    "        peak_df <- data.frame(chr=chroms)\n",
    "        peak_df$start <- 0\n",
    "        peak_df$end <- 4100\n",
    "                           \n",
    "        regions <- makeGRangesFromDataFrame(peak_df)\n",
    "        MMD <- setRegions(MMD, regions)\n",
    "                           \n",
    "        Meta <- metaData(MMD)\n",
    "        Meta$AnaData$pairedEnd <- rep(FALSE, n_mods)\n",
    "        Meta$AnaData$PeakBoundary <- 200\n",
    "        MMD@MetaData <- Meta\n",
    "                           \n",
    "        read_df <- data.frame()\n",
    "        \n",
    "        dir.create(paste0(group_dir,\"/\",replica))\n",
    "\n",
    "        for (pattern in patterns) { \n",
    "            pattern_df = subset(replica_df, Pattern == pattern)\n",
    "            dirname <- paste0(group_dir,\"/\",replica,\"/\",pattern)\n",
    "            dir.create(dirname)\n",
    "\n",
    "            read_data = by(data = pattern_df$Path,\n",
    "                            INDICES=pattern_df$Peak,\n",
    "                            FUN=function(x) data.frame(read.csv(file=paste(x), header=TRUE, sep=\",\")))\n",
    "            \n",
    "            tmp_df<-data.frame()\n",
    "            for(i in c(0:(length(peaks)-1))){\n",
    "                peak_n <- paste0(\"peak_\",i)\n",
    "                rdf <- read_data[[peak_n]]\n",
    "                rdf$peak <- paste0(pattern, \"_\", i)\n",
    "                tmp_df<-rbind(tmp_df, rdf)\n",
    "            }\n",
    "            \n",
    "            read_df<-rbind(read_df, tmp_df)\n",
    "        }\n",
    "        \n",
    "        readList <- list()\n",
    "        rawCounts = matrix(, nrow = length(peaks)*length(patterns), ncol = n_mods)\n",
    "        \n",
    "        rnames <- sapply(chroms, function (x) paste0(\"chr\",x,\":0-4100\"))\n",
    "        cnames <- sapply(c(0:(n_mods-1)), function (x) paste0(\"mod_\",x))\n",
    "                        \n",
    "        rownames(rawCounts) <- rnames\n",
    "        colnames(rawCounts) <- cnames\n",
    "\n",
    "        for(i in c(0:(n_mods-1))) {\n",
    "            col <- paste0(\"mod_\",i)\n",
    "            tempList = list() \n",
    "            j <- 0\n",
    "            for(chr_n in chroms){\n",
    "                row <- paste0(\"chr\",chr_n, \":0-4100\")\n",
    "                p_df <- subset(read_df, peak==chr_n)\n",
    "                df <- subset(p_df, modification==i)\n",
    "                tempList[[row]] <- (as.numeric(df$position)+200+1)\n",
    "                rawCounts[row, col] <- nrow(df)\n",
    "                j <- j+1\n",
    "            }\n",
    "            readList[[col]] <- tempList\n",
    "        }\n",
    "\n",
    "        MMD@Reads <- list('Center'=readList)\n",
    "        MMD@RawTotalCounts <- rawCounts\n",
    "        print(\"starting mmd\")\n",
    "        MMD <- compDists(MMD,dist.method='MMD2', background_intensity=0.25, bootstrap_n=0)\n",
    "        #MMD <- compDists(MMD,dist.method='MMD')\n",
    "        #dists <-MMD@DISTs$MMD\n",
    "        dists2 <-MMD@DISTs$MMD2\n",
    "        print(\"writing mmd\")\n",
    "        for (pattern in patterns){\n",
    "            dirname <- paste0(group_dir,\"/\",replica,\"/\",pattern)\n",
    "            pchr <- sapply(c(0:(length(peaks)-1)), function (x) paste0(pattern, \"_\", x))\n",
    "            p_rows <- sapply(pchr, function (x) paste0(\"chr\",x, \":0-4100\"))\n",
    "            pdists2 <- dists2[p_rows, ]\n",
    "            write.csv(pdists2, file = paste0(dirname, \"/MMD_dists.csv\"))\n",
    "        }        \n",
    "    }\n",
    "}"
   ]
  },
  {
   "cell_type": "code",
   "execution_count": null,
   "metadata": {},
   "outputs": [],
   "source": []
  }
 ],
 "metadata": {
  "kernelspec": {
   "display_name": "Python 3",
   "language": "python",
   "name": "python3"
  },
  "language_info": {
   "codemirror_mode": {
    "name": "ipython",
    "version": 3
   },
   "file_extension": ".py",
   "mimetype": "text/x-python",
   "name": "python",
   "nbconvert_exporter": "python",
   "pygments_lexer": "ipython3",
   "version": "3.7.3"
  }
 },
 "nbformat": 4,
 "nbformat_minor": 2
}
