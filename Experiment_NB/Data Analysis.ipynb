{
 "cells": [
  {
   "cell_type": "code",
   "execution_count": null,
   "metadata": {},
   "outputs": [],
   "source": [
    "%load_ext rpy2.ipython"
   ]
  },
  {
   "cell_type": "markdown",
   "metadata": {},
   "source": [
    "### Import packages"
   ]
  },
  {
   "cell_type": "code",
   "execution_count": null,
   "metadata": {},
   "outputs": [],
   "source": [
    "%%R\n",
    "library(ggplot2)\n",
    "library(reshape2)\n",
    "library(ggfortify)\n",
    "library(ggplot2)\n",
    "library(cluster) \n",
    "library(factoextra)\n",
    "library(NbClust)"
   ]
  },
  {
   "cell_type": "markdown",
   "metadata": {},
   "source": [
    "### Lets set the experiment WD and simulation WD"
   ]
  },
  {
   "cell_type": "code",
   "execution_count": null,
   "metadata": {},
   "outputs": [],
   "source": [
    "%%R\n",
    "exp_wd <- \"Name\"\n",
    "sim_wd <- \"Name\""
   ]
  },
  {
   "cell_type": "markdown",
   "metadata": {},
   "source": [
    "### Inspect a Peak"
   ]
  },
  {
   "cell_type": "code",
   "execution_count": null,
   "metadata": {},
   "outputs": [],
   "source": [
    "%%R\n",
    "peak_data<-data.frame(read.csv(paste0(\"sim_wd\",\"/\",\"pattern_0/peak_0/data.csv\")))\n",
    "par(mfrow=c(10,1)) \n",
    "par(mar=c(1,1,1,1))\n",
    "for (i in 0:9) {\n",
    "    hist(subset(dat,modification==i)$position, xlim=c(0,3300), ylim = c(0, 100), breaks=200)\n",
    "}"
   ]
  },
  {
   "cell_type": "markdown",
   "metadata": {},
   "source": [
    "### Load the Data"
   ]
  },
  {
   "cell_type": "code",
   "execution_count": null,
   "metadata": {},
   "outputs": [],
   "source": [
    "%%R\n",
    "patterns <- list.dirs(path = mmd_wd, full.names = TRUE, recursive = FALSE)\n",
    "\n",
    "for (pattern in patterns){\n",
    "    pattern_name<-basename(pattern)\n",
    "    dists_path<-list.files(path = pattern, full.names = TRUE, recursive = FALSE)[1]\n",
    "    dists <- data.frame(read.csv(file=paste(dists_path), header=TRUE, sep=\",\")\n",
    "}\n"
   ]
  }
 ],
 "metadata": {
  "kernelspec": {
   "display_name": "Python 3",
   "language": "python",
   "name": "python3"
  },
  "language_info": {
   "codemirror_mode": {
    "name": "ipython",
    "version": 3
   },
   "file_extension": ".py",
   "mimetype": "text/x-python",
   "name": "python",
   "nbconvert_exporter": "python",
   "pygments_lexer": "ipython3",
   "version": "3.5.6"
  }
 },
 "nbformat": 4,
 "nbformat_minor": 2
}
