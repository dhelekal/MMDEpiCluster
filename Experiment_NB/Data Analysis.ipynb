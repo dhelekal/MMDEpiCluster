{
 "cells": [
  {
   "cell_type": "markdown",
   "metadata": {},
   "source": [
    "# Run analysis of validation data"
   ]
  },
  {
   "cell_type": "code",
   "execution_count": null,
   "metadata": {},
   "outputs": [],
   "source": [
    "%load_ext rpy2.ipython"
   ]
  },
  {
   "cell_type": "markdown",
   "metadata": {},
   "source": [
    "### Import packages"
   ]
  },
  {
   "cell_type": "code",
   "execution_count": null,
   "metadata": {},
   "outputs": [],
   "source": [
    "%%R\n",
    "library(reshape2)\n",
    "library(cluster) \n",
    "library(factoextra)\n",
    "library(NbClust)\n",
    "library(rjson)\n",
    "\n",
    "library(gridExtra)\n",
    "library(grid)\n",
    "library(ggplot2)\n",
    "library(ggfortify)"
   ]
  },
  {
   "cell_type": "markdown",
   "metadata": {},
   "source": [
    "### Lets set the experiment WD and simulation WD"
   ]
  },
  {
   "cell_type": "code",
   "execution_count": null,
   "metadata": {},
   "outputs": [],
   "source": [
    "%%R\n",
    "exp_wd <- \"./Experiment_out/test2\"\n",
    "sim_wd <- \"./Simulation_result/test2/Experiment_test2_1\"\n",
    "cbbPalette <- c(\"#EEEEEE\", \"#E69F00\", \"#56B4E9\", \"#009E73\", \"#F0E442\", \"#0072B2\", \"#D55E00\", \"#CC79A7\")"
   ]
  },
  {
   "cell_type": "markdown",
   "metadata": {},
   "source": [
    "### Inspect a Peak"
   ]
  },
  {
   "cell_type": "markdown",
   "metadata": {},
   "source": [
    "#### Define Plotting Functions"
   ]
  },
  {
   "cell_type": "code",
   "execution_count": null,
   "metadata": {},
   "outputs": [],
   "source": [
    "%%R\n",
    "plot_pattern <- function(data, col_palette) {\n",
    "    acum <- matrix(0, nrow=10,ncol=10)\n",
    "    colour_idx <- 1\n",
    "    colour_vec <- matrix(rep(0,10))\n",
    "    for (pattern in data){\n",
    "        p <-matrix(pattern)\n",
    "        acum <- acum + (p %*% t(p))*colour_idx\n",
    "        colour_vec <- colour_vec+p*colour_idx\n",
    "        colour_idx<-colour_idx+1\n",
    "    }\n",
    "    plt<-c()\n",
    "    plt$mat <- (ggplot(data = melt(acum), aes((11-Var1), Var2, fill=factor(value)))+\n",
    "    geom_tile()+\n",
    "    scale_x_continuous(\"modification\", breaks=c(0:10)+0.5)+\n",
    "    scale_y_continuous(\"modification\", breaks=c(0:10)+0.5)+\n",
    "    scale_fill_manual(values=col_palette, labels = c(\"None\", c(1:10)))+\n",
    "    guides(fill=guide_legend(title=\"Association\",title.position = \"left\"))+\n",
    "    coord_fixed() +\n",
    "    theme(\n",
    "        panel.grid.major = element_line(colour = \"black\"),\n",
    "        legend.title = element_text(angle=90,hjust=0.5),\n",
    "        legend.key.height = grid::unit(5,\"cm\"),\n",
    "        legend.key.width = grid::unit(1.75,\"cm\"),\n",
    "        legend.margin = grid::unit(0.25,\"cm\"),\n",
    "        legend.box = \"vertical\",\n",
    "        legend.box.margin = margin(c(10,10,10,10)),\n",
    "        panel.background = element_rect(fill = NA),\n",
    "        panel.ontop = TRUE,\n",
    "        axis.text.x=element_blank(),\n",
    "        axis.text.y=element_blank(),\n",
    "        axis.ticks=element_line(size=0.4),\n",
    "        panel.border=element_blank())\n",
    "    )\n",
    "    plt$colours <- colour_vec\n",
    "    return(plt)\n",
    "}\n",
    "\n",
    "g_legend<-function(a.gplot){\n",
    "    tmp <- ggplot_gtable(ggplot_build(a.gplot))\n",
    "    leg <- which(sapply(tmp$grobs, function(x) x$name) == \"guide-box\")\n",
    "    legend <- tmp$grobs[[leg]]                        \n",
    "    return(legend)\n",
    "}\n",
    "                        \n",
    "plot_association <- function(patt_no, patterns, palette) {\n",
    "    \n",
    "    plts <- list()\n",
    "    \n",
    "    patt_name <- paste0(\"pattern_\",patt_no)\n",
    "    peak_data <-data.frame(read.csv(paste0(sim_wd,\"/\",patt_name,\"/\",\"/peak_0/data.csv\")))\n",
    "    layout_mat <- matrix(0, nrow=10,ncol=3)\n",
    "    layout_mat[,1] <- rep(1,10)\n",
    "    layout_mat[,2] <- rep(2,10)\n",
    "    layout_mat[,3] <- c(3:12)\n",
    "\n",
    "    patt_plt <- plot_pattern(patterns[[patt_no+1]], cbbPalette)\n",
    "    colours <- patt_plt$colours\n",
    "    \n",
    "    mat_plt <-patt_plt$mat\n",
    "    \n",
    "    legend <- g_legend(mat_plt)\n",
    "    plts[[1]] <- legend\n",
    "    plts[[2]] <- mat_plt+theme(legend.position=\"none\")\n",
    "    \n",
    "    for (i in 0:9) {\n",
    "        p <- (ggplot(subset(peak_data,modification==i), aes(x=position))+\n",
    "                geom_histogram(colour=\"white\", fill=cbbPalette[colours[i+1]+1],bins=150)+\n",
    "                xlim(c(0,2200)) +\n",
    "                ylim(c(0,20)))\n",
    "        plts[[i+3]] <- p\n",
    "    }\n",
    "    pdf(paste0(\"association_pattern_\",patt_no,\".pdf\"), width=31,height=15)\n",
    "        grid.arrange(grobs=plts,\n",
    "                     layout_matrix=layout_mat, widths=c(2,15,14))\n",
    "        grid.rect(gp=gpar(fill=NA))\n",
    "    dev.off()\n",
    "} "
   ]
  },
  {
   "cell_type": "markdown",
   "metadata": {},
   "source": [
    "#### Plot Patterns for Peak"
   ]
  },
  {
   "cell_type": "code",
   "execution_count": null,
   "metadata": {},
   "outputs": [],
   "source": [
    "%%R\n",
    "patterns <- fromJSON(file=paste0(sim_wd, \"/\",\"patterns.json\"))\n",
    "for(i in c(0:3)) {\n",
    "    plot_association(i, patterns, cbbPalette)\n",
    "}"
   ]
  },
  {
   "cell_type": "markdown",
   "metadata": {},
   "source": [
    "### Auxilliary Functions"
   ]
  },
  {
   "cell_type": "code",
   "execution_count": null,
   "metadata": {},
   "outputs": [],
   "source": [
    "%%R\n",
    "make_mat <- function(x) {\n",
    "    b <- matrix(0, 10, 10)\n",
    "    b[lower.tri(b, diag=FALSE)] <- x\n",
    "    b <- t(b)\n",
    "    b <- (b+t(b))\n",
    "    return(b)\n",
    "}\n",
    "\n",
    "get_evecs <- function(x) {\n",
    "    b <- matrix(0, 10, 10)\n",
    "    b[lower.tri(b, diag=FALSE)] <- (x/sqrt(sum(x^2)))\n",
    "    b <- t(b)\n",
    "    b <- (b+t(b))\n",
    "    b <- b\n",
    "    deg <- colSums(b)\n",
    "    d <- matrix(0, 10, 10)\n",
    "    diag(d) <- deg\n",
    "    L <- d-b\n",
    "    L <- sqrt(diag(1/deg)) %*% L %*% sqrt(diag(1/deg))\n",
    "    e <- eigen(L)\n",
    "    vv <- c()\n",
    "    for (i in 1:9){\n",
    "        vv <- c(vv,e$vectors[,i]*e$values[i])\n",
    "    }\n",
    "    return(e$vectors[,1])\n",
    "}\n"
   ]
  },
  {
   "cell_type": "markdown",
   "metadata": {},
   "source": [
    "### Plot Eigen-Projections"
   ]
  },
  {
   "cell_type": "code",
   "execution_count": null,
   "metadata": {},
   "outputs": [],
   "source": [
    "%%R\n",
    "replicas <- list.dirs(path = exp_wd, full.names = TRUE, recursive = FALSE)\n",
    "\n",
    "par(mfrow=c(3,2)) \n",
    "par(mar=c(1,1,1,1))\n",
    "\n",
    "for (replica in replicas){\n",
    "    exp_df <- data.frame()\n",
    "    patterns <- list.dirs(path = replica, full.names = TRUE, recursive = FALSE)\n",
    "    for (pattern in patterns){\n",
    "        pattern_name <- basename(pattern)\n",
    "        dists <- data.frame(read.csv(file=paste0(pattern, '/', 'MMD_dists.csv'), header=TRUE, sep=\",\"))\n",
    "        dists$pattern <- pattern_name\n",
    "        exp_df <- rbind(exp_df, dists)\n",
    "    }\n",
    "    evecs <- apply((exp_df[,2:46]),1,get_evecs)\n",
    "    pca <- prcomp(t(evecs), scale = FALSE)\n",
    "    patterns <- factor(exp_df$pattern)\n",
    "    plt <- autoplot(pca) +\n",
    "        geom_point(shape=23, aes(fill = patterns), color = \"darkred\", size=3) +\n",
    "        labs(fill = \"Pattern\") +\n",
    "        ggtitle(basename(replica))\n",
    "    plot(plt)\n",
    "}"
   ]
  },
  {
   "cell_type": "markdown",
   "metadata": {},
   "source": [
    "### Plot PCA Projections"
   ]
  },
  {
   "cell_type": "code",
   "execution_count": null,
   "metadata": {},
   "outputs": [],
   "source": [
    "%%R\n",
    "replicas <- list.dirs(path = exp_wd, full.names = TRUE, recursive = FALSE)\n",
    "\n",
    "par(mfrow=c(3,2)) \n",
    "par(mar=c(1,1,1,1))\n",
    "\n",
    "for (replica in replicas){\n",
    "    exp_df <- data.frame()\n",
    "    patterns <- list.dirs(path = replica, full.names = TRUE, recursive = FALSE)\n",
    "    for (pattern in patterns){\n",
    "        pattern_name <- basename(pattern)\n",
    "        dists <- data.frame(read.csv(file=paste0(pattern, '/', 'MMD_dists.csv'), header=TRUE, sep=\",\"))\n",
    "        dists$pattern <- pattern_name\n",
    "        exp_df <- rbind(exp_df, dists)\n",
    "    }\n",
    "    pca <- prcomp(exp_df[,2:46], scale = FALSE)\n",
    "    patterns <- factor(exp_df$pattern)\n",
    "    plt <- autoplot(pca) +\n",
    "        geom_point(shape=23, aes(fill = patterns), color=\"darkred\", size=3) +\n",
    "        labs(fill = \"Pattern\") +\n",
    "        ggtitle(basename(replica))\n",
    "    plot(plt)\n",
    "}"
   ]
  }
 ],
 "metadata": {
  "kernelspec": {
   "display_name": "Python 3",
   "language": "python",
   "name": "python3"
  },
  "language_info": {
   "codemirror_mode": {
    "name": "ipython",
    "version": 3
   },
   "file_extension": ".py",
   "mimetype": "text/x-python",
   "name": "python",
   "nbconvert_exporter": "python",
   "pygments_lexer": "ipython3",
   "version": "3.5.6"
  }
 },
 "nbformat": 4,
 "nbformat_minor": 2
}
