{
 "cells": [
  {
   "cell_type": "markdown",
   "metadata": {},
   "source": [
    "# Run analysis of validation data"
   ]
  },
  {
   "cell_type": "code",
   "execution_count": null,
   "metadata": {},
   "outputs": [],
   "source": [
    "%load_ext rpy2.ipython"
   ]
  },
  {
   "cell_type": "markdown",
   "metadata": {},
   "source": [
    "### Import packages"
   ]
  },
  {
   "cell_type": "code",
   "execution_count": null,
   "metadata": {},
   "outputs": [],
   "source": [
    "%%R\n",
    "library(ggplot2)\n",
    "library(reshape2)\n",
    "library(ggfortify)\n",
    "library(ggplot2)\n",
    "library(cluster) \n",
    "library(factoextra)\n",
    "library(NbClust)"
   ]
  },
  {
   "cell_type": "markdown",
   "metadata": {},
   "source": [
    "### Lets set the experiment WD and simulation WD"
   ]
  },
  {
   "cell_type": "code",
   "execution_count": null,
   "metadata": {},
   "outputs": [],
   "source": [
    "%%R\n",
    "exp_wd <- \"./Experiment_out/test2\"\n",
    "sim_wd <- \"./Simulation_result/test2/Experiment_test2_1\""
   ]
  },
  {
   "cell_type": "markdown",
   "metadata": {},
   "source": [
    "### Inspect a Peak"
   ]
  },
  {
   "cell_type": "code",
   "execution_count": null,
   "metadata": {},
   "outputs": [],
   "source": [
    "%%R\n",
    "peak_data<-data.frame(read.csv(paste0(sim_wd,\"/\",\"pattern_0/peak_0/data.csv\")))\n",
    "par(mfrow=c(10,1)) \n",
    "par(mar=c(2,1,1,1))\n",
    "for (i in 0:9) {\n",
    "    hist(subset(peak_data,modification==i)$position, xlim=c(0,3300), ylim = c(0, 40), breaks=200, main=paste0(\"Modification: \",i ))\n",
    "}"
   ]
  },
  {
   "cell_type": "markdown",
   "metadata": {},
   "source": [
    "### Auxilliary Functions"
   ]
  },
  {
   "cell_type": "code",
   "execution_count": null,
   "metadata": {},
   "outputs": [],
   "source": [
    "%%R\n",
    "make_mat <- function(x) {\n",
    "    b <- matrix(0, 10, 10)\n",
    "    b[lower.tri(b, diag=FALSE)] <- x\n",
    "    b <- t(b)\n",
    "    b <- (b+t(b))\n",
    "    return(b)\n",
    "}\n",
    "\n",
    "get_evecs <- function(x) {\n",
    "    b <- matrix(0, 10, 10)\n",
    "    b[lower.tri(b, diag=FALSE)] <- (x/sqrt(sum(x^2)))\n",
    "    b <- t(b)\n",
    "    b <- (b+t(b))\n",
    "    b <- b\n",
    "    deg <- colSums(b)\n",
    "    d <- matrix(0, 10, 10)\n",
    "    diag(d) <- deg\n",
    "    L <- d-b\n",
    "    L <- sqrt(diag(1/deg)) %*% L %*% sqrt(diag(1/deg))\n",
    "    e <- eigen(L)\n",
    "    vv <- c()\n",
    "    for (i in 1:9){\n",
    "        vv <- c(vv,e$vectors[,i]*e$values[i])\n",
    "    }\n",
    "    return(e$vectors[,1])\n",
    "}\n"
   ]
  },
  {
   "cell_type": "markdown",
   "metadata": {},
   "source": [
    "### Plot Eigen-Projections"
   ]
  },
  {
   "cell_type": "code",
   "execution_count": null,
   "metadata": {},
   "outputs": [],
   "source": [
    "%%R\n",
    "replicas <- list.dirs(path = exp_wd, full.names = TRUE, recursive = FALSE)\n",
    "\n",
    "par(mfrow=c(3,2)) \n",
    "par(mar=c(1,1,1,1))\n",
    "\n",
    "for (replica in replicas){\n",
    "    exp_df <- data.frame()\n",
    "    patterns <- list.dirs(path = replica, full.names = TRUE, recursive = FALSE)\n",
    "    for (pattern in patterns){\n",
    "        pattern_name <- basename(pattern)\n",
    "        dists <- data.frame(read.csv(file=paste0(pattern, '/', 'MMD_dists.csv'), header=TRUE, sep=\",\"))\n",
    "        dists$pattern <- pattern_name\n",
    "        exp_df <- rbind(exp_df, dists)\n",
    "    }\n",
    "    evecs <- apply((exp_df[,2:46]),1,get_evecs)\n",
    "    pca <- prcomp(t(evecs), scale = FALSE)\n",
    "    patterns <- factor(exp_df$pattern)\n",
    "    plt <- autoplot(pca) +\n",
    "        geom_point(shape=23, aes(fill = patterns), color = \"darkred\", size=3) +\n",
    "        labs(fill = \"Pattern\") +\n",
    "        ggtitle(basename(replica))\n",
    "    plot(plt)\n",
    "}"
   ]
  },
  {
   "cell_type": "markdown",
   "metadata": {},
   "source": [
    "### Plot PCA Projections"
   ]
  },
  {
   "cell_type": "code",
   "execution_count": null,
   "metadata": {},
   "outputs": [],
   "source": [
    "%%R\n",
    "replicas <- list.dirs(path = exp_wd, full.names = TRUE, recursive = FALSE)\n",
    "\n",
    "par(mfrow=c(3,2)) \n",
    "par(mar=c(1,1,1,1))\n",
    "\n",
    "for (replica in replicas){\n",
    "    exp_df <- data.frame()\n",
    "    patterns <- list.dirs(path = replica, full.names = TRUE, recursive = FALSE)\n",
    "    for (pattern in patterns){\n",
    "        pattern_name <- basename(pattern)\n",
    "        dists <- data.frame(read.csv(file=paste0(pattern, '/', 'MMD_dists.csv'), header=TRUE, sep=\",\"))\n",
    "        dists$pattern <- pattern_name\n",
    "        exp_df <- rbind(exp_df, dists)\n",
    "    }\n",
    "    pca <- prcomp(exp_df[,2:46], scale = FALSE)\n",
    "    patterns <- factor(exp_df$pattern)\n",
    "    plt <- autoplot(pca) +\n",
    "        geom_point(shape=23, aes(fill = patterns), color=\"darkred\", size=3) +\n",
    "        labs(fill = \"Pattern\") +\n",
    "        ggtitle(basename(replica))\n",
    "    plot(plt)\n",
    "}"
   ]
  }
 ],
 "metadata": {
  "kernelspec": {
   "display_name": "Python 3",
   "language": "python",
   "name": "python3"
  },
  "language_info": {
   "codemirror_mode": {
    "name": "ipython",
    "version": 3
   },
   "file_extension": ".py",
   "mimetype": "text/x-python",
   "name": "python",
   "nbconvert_exporter": "python",
   "pygments_lexer": "ipython3",
   "version": "3.5.6"
  }
 },
 "nbformat": 4,
 "nbformat_minor": 2
}
