{
 "cells": [
  {
   "cell_type": "code",
   "execution_count": 1,
   "metadata": {},
   "outputs": [],
   "source": [
    "export cwd=$(pwd)"
   ]
  },
  {
   "cell_type": "code",
   "execution_count": 2,
   "metadata": {},
   "outputs": [
    {
     "name": "stdout",
     "output_type": "stream",
     "text": [
      "/cluster/gs_lab/common/co_chip\n"
     ]
    }
   ],
   "source": [
    "echo $cwd"
   ]
  },
  {
   "cell_type": "code",
   "execution_count": 3,
   "metadata": {},
   "outputs": [],
   "source": [
    "export SRR_RUN_TABLE=$cwd/SraRunTable.txt"
   ]
  },
  {
   "cell_type": "code",
   "execution_count": 4,
   "metadata": {},
   "outputs": [
    {
     "name": "stdout",
     "output_type": "stream",
     "text": [
      "mkdir: cannot create directory `run': File exists\n"
     ]
    }
   ],
   "source": [
    "cd $cwd\n",
    "mkdir run\n",
    "cd run"
   ]
  },
  {
   "cell_type": "code",
   "execution_count": 5,
   "metadata": {},
   "outputs": [],
   "source": [
    "rm -rf *"
   ]
  },
  {
   "cell_type": "code",
   "execution_count": 6,
   "metadata": {},
   "outputs": [],
   "source": [
    "mkdir index\n",
    "mkdir annotation"
   ]
  },
  {
   "cell_type": "code",
   "execution_count": 7,
   "metadata": {},
   "outputs": [
    {
     "name": "stdout",
     "output_type": "stream",
     "text": [
      "--2019-08-20 15:32:11--  ftp://ftp.ensembl.org/pub/release-97/fasta/mus_musculus/dna//Mus_musculus.GRCm38.dna.toplevel.fa.gz\n",
      "           => 'Mus_musculus.GRCm38.dna.toplevel.fa.gz'\n",
      "Resolving ftp.ensembl.org... 193.62.193.8\n",
      "Connecting to ftp.ensembl.org|193.62.193.8|:21... connected.\n",
      "Logging in as anonymous ... Logged in!\n",
      "==> SYST ... done.    ==> PWD ... done.\n",
      "==> TYPE I ... done.  ==> CWD (1) /pub/release-97/fasta/mus_musculus/dna/ ... done.\n",
      "==> SIZE Mus_musculus.GRCm38.dna.toplevel.fa.gz ... 842816838\n",
      "==> PASV ... done.    ==> RETR Mus_musculus.GRCm38.dna.toplevel.fa.gz ... done.\n",
      "Length: 842816838 (804M) (unauthoritative)\n",
      "\n",
      "gz                    6%[>                   ]  53.24M  2.62MB/s    eta 4m 54s \n"
     ]
    }
   ],
   "source": [
    "cd annotation\n",
    "wget ftp://ftp.ensembl.org/pub/release-97/fasta/mus_musculus/dna//Mus_musculus.GRCm38.dna.toplevel.fa.gz\n",
    "cd .."
   ]
  },
  {
   "cell_type": "code",
   "execution_count": null,
   "metadata": {},
   "outputs": [
    {
     "name": "stdout",
     "output_type": "stream",
     "text": [
      "bash: cd: index: No such file or directory\n",
      "Settings:\n",
      "  Output files: \"mm9.*.bt2\"\n",
      "  Line rate: 6 (line is 64 bytes)\n",
      "  Lines per side: 1 (side is 64 bytes)\n",
      "  Offset rate: 4 (one in 16)\n",
      "  FTable chars: 10\n",
      "  Strings: unpacked\n",
      "  Max bucket size: default\n",
      "  Max bucket size, sqrt multiplier: default\n",
      "  Max bucket size, len divisor: 4\n",
      "  Difference-cover sample period: 1024\n",
      "  Endianness: little\n",
      "  Actual local endianness: little\n",
      "  Sanity checking: disabled\n",
      "  Assertions: disabled\n",
      "  Random seed: 0\n",
      "  Sizeofs: void*:8, int:4, long:8, size_t:8\n",
      "Input files DNA, FASTA:\n",
      "  ../annotation/Mus_musculus.GRCm38.dna.toplevel.fa.gz\n",
      "Building a SMALL index\n",
      "Reading reference sizes\n",
      "  Time reading reference sizes: 00:00:03\n",
      "Calculating joined length\n",
      "Writing header\n",
      "Reserving space for joined string\n",
      "Joining reference sequences\n",
      "  Time to join reference sequences: 00:00:04\n",
      "bmax according to bmaxDivN setting: 46114548\n",
      "Using parameters --bmax 34585911 --dcv 1024\n",
      "  Doing ahead-of-time memory usage test\n",
      "  Passed!  Constructing with these parameters: --bmax 34585911 --dcv 1024\n",
      "Constructing suffix-array element generator\n",
      "Building DifferenceCoverSample\n",
      "  Building sPrime\n",
      "  Building sPrimeOrder\n",
      "  V-Sorting samples\n",
      "  V-Sorting samples time: 00:00:04\n",
      "  Allocating rank array\n",
      "  Ranking v-sort output\n",
      "  Ranking v-sort output time: 00:00:01\n",
      "  Invoking Larsson-Sadakane on ranks\n",
      "  Invoking Larsson-Sadakane on ranks time: 00:00:02\n",
      "  Sanity-checking and returning\n",
      "Building samples\n",
      "Reserving space for 12 sample suffixes\n",
      "Generating random suffixes\n",
      "QSorting 12 sample offsets, eliminating duplicates\n",
      "QSorting sample offsets, eliminating duplicates time: 00:00:00\n",
      "Multikey QSorting 12 samples\n",
      "  (Using difference cover)\n",
      "  Multikey QSorting samples time: 00:00:00\n",
      "Calculating bucket sizes\n",
      "Splitting and merging\n",
      "  Splitting and merging time: 00:00:00\n",
      "Avg bucket size: 1.84458e+08 (target: 34585910)\n",
      "Converting suffix-array elements to index image\n",
      "Allocating ftab, absorbFtab\n",
      "Entering Ebwt loop\n",
      "Getting block 1 of 1\n",
      "  No samples; assembling all-inclusive block\n",
      "  Sorting block of length 184458192 for bucket 1\n",
      "  (Using difference cover)\n"
     ]
    }
   ],
   "source": [
    "cd index\n",
    "bowtie2-build ../annotation/Mus_musculus.GRCm38.dna.toplevel.fa.gz mm9\n",
    "bowtie2-inspect -n mm9\n",
    "export INDEX=$(pwd)/mm9\n",
    "cd .."
   ]
  },
  {
   "cell_type": "code",
   "execution_count": null,
   "metadata": {},
   "outputs": [],
   "source": [
    "python3 $cwd/parse_sra_runtable.py $SRR_RUN_TABLE"
   ]
  },
  {
   "cell_type": "code",
   "execution_count": null,
   "metadata": {},
   "outputs": [],
   "source": [
    "find ./*_*/SRX* -mindepth 0 -maxdepth 0 | parallel -j 17 \"$cwd/align.sh {} 2\""
   ]
  },
  {
   "cell_type": "code",
   "execution_count": null,
   "metadata": {},
   "outputs": [],
   "source": [
    "find ./*_*/SRX*/merged -mindepth 0 -maxdepth 0 | parallel -j 40 $'samtools view -h {}/all.bam |awk \"sqrt((\\$9)^2) < 230\" |\\samtools view -bS - > {}/all-filtered.bam'"
   ]
  },
  {
   "cell_type": "code",
   "execution_count": null,
   "metadata": {},
   "outputs": [],
   "source": [
    "find ./*_*/SRX*/merged -mindepth 0 -maxdepth 0 | parallel -j 40 \"samtools index {}/all-filtered.bam\""
   ]
  },
  {
   "cell_type": "code",
   "execution_count": null,
   "metadata": {},
   "outputs": [],
   "source": [
    "find ./*_*/SRX*/merged -mindepth 0 -maxdepth 0 | parallel -j 17 \"bamPEFragmentSize -b {}/all-filtered.bam -o {}/hist.png --numberOfProcessors 2\""
   ]
  },
  {
   "cell_type": "code",
   "execution_count": null,
   "metadata": {},
   "outputs": [],
   "source": [
    "find ./*_*/SRX* -mindepth 0 -maxdepth 0 | parallel -j 40 \"makeTagDirectory {}/tag_dir {}/merged/all-filtered.bam\""
   ]
  },
  {
   "cell_type": "code",
   "execution_count": null,
   "metadata": {},
   "outputs": [],
   "source": [
    "find ./*_*/SRX* -mindepth 0 -maxdepth 0 | parallel -j 40 \"findPeaks {}/tag_dir -style histone -size 200 -minDist 100 -o auto\""
   ]
  },
  {
   "cell_type": "code",
   "execution_count": null,
   "metadata": {},
   "outputs": [],
   "source": [
    "find ./*_*/SRX* -mindepth 0 -maxdepth 0 | parallel -j 40 $'awk \"/^[^#]/ {print \\$2,\\$3,\\$4,\\$1,\\$8,\\$5}\" {}/tag_dir/regions.txt > {}/tag_dir/regions.bed'"
   ]
  },
  {
   "cell_type": "code",
   "execution_count": null,
   "metadata": {},
   "outputs": [],
   "source": []
  }
 ],
 "metadata": {
  "celltoolbar": "Raw Cell Format",
  "kernelspec": {
   "display_name": "Bash",
   "language": "bash",
   "name": "bash"
  },
  "language_info": {
   "codemirror_mode": "shell",
   "file_extension": ".sh",
   "mimetype": "text/x-sh",
   "name": "bash"
  }
 },
 "nbformat": 4,
 "nbformat_minor": 2
}
