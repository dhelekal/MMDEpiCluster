{
 "cells": [
  {
   "cell_type": "code",
   "execution_count": 1,
   "metadata": {},
   "outputs": [],
   "source": [
    "export cwd=$(pwd)"
   ]
  },
  {
   "cell_type": "code",
   "execution_count": 2,
   "metadata": {},
   "outputs": [
    {
     "name": "stdout",
     "output_type": "stream",
     "text": [
      "/cluster/gs_lab/common/co_chip\n"
     ]
    }
   ],
   "source": [
    "echo $cwd"
   ]
  },
  {
   "cell_type": "code",
   "execution_count": 3,
   "metadata": {},
   "outputs": [],
   "source": [
    "export SRR_RUN_TABLE=$cwd/SraRunTable.txt"
   ]
  },
  {
   "cell_type": "code",
   "execution_count": 4,
   "metadata": {},
   "outputs": [
    {
     "name": "stdout",
     "output_type": "stream",
     "text": [
      "mkdir: cannot create directory `run': File exists\n"
     ]
    }
   ],
   "source": [
    "cd $cwd\n",
    "mkdir run\n",
    "cd run"
   ]
  },
  {
   "cell_type": "code",
   "execution_count": 5,
   "metadata": {},
   "outputs": [],
   "source": [
    "rm -rf *"
   ]
  },
  {
   "cell_type": "code",
   "execution_count": 6,
   "metadata": {},
   "outputs": [],
   "source": [
    "mkdir index\n",
    "mkdir annotation"
   ]
  },
  {
   "cell_type": "code",
   "execution_count": null,
   "metadata": {},
   "outputs": [
    {
     "name": "stdout",
     "output_type": "stream",
     "text": [
      "--2019-08-16 11:00:12--  ftp://ftp.ensembl.org/pub/release-97/fasta/mus_musculus/dna//Mus_musculus.GRCm38.dna.toplevel.fa.gz\n",
      "           => 'Mus_musculus.GRCm38.dna.toplevel.fa.gz'\n",
      "Resolving ftp.ensembl.org... 193.62.193.8\n",
      "Connecting to ftp.ensembl.org|193.62.193.8|:21... connected.\n",
      "Logging in as anonymous ... Logged in!\n",
      "==> SYST ... done.    ==> PWD ... done.\n",
      "==> TYPE I ... done.  ==> CWD (1) /pub/release-97/fasta/mus_musculus/dna/ ... done.\n",
      "==> SIZE Mus_musculus.GRCm38.dna.toplevel.fa.gz ... 842816838\n",
      "==> PASV ... done.    ==> RETR Mus_musculus.GRCm38.dna.toplevel.fa.gz ... done.\n",
      "Length: 842816838 (804M) (unauthoritative)\n",
      "\n"
     ]
    }
   ],
   "source": [
    "cd annotation\n",
    "wget ftp://ftp.ensembl.org/pub/release-97/fasta/mus_musculus/dna//Mus_musculus.GRCm38.dna.toplevel.fa.gz\n",
    "cd .."
   ]
  },
  {
   "cell_type": "code",
   "execution_count": null,
   "metadata": {},
   "outputs": [],
   "source": [
    "cd index\n",
    "bowtie2-build ../annotation/Mus_musculus.GRCm38.dna.toplevel.fa.gz mm9\n",
    "bowtie2-inspect -n mm9\n",
    "export INDEX=$(pwd)/mm9\n",
    "cd .."
   ]
  },
  {
   "cell_type": "code",
   "execution_count": null,
   "metadata": {},
   "outputs": [],
   "source": [
    "python3 $cwd/parse_sra_runtable.py $SRR_RUN_TABLE"
   ]
  },
  {
   "cell_type": "code",
   "execution_count": null,
   "metadata": {},
   "outputs": [],
   "source": [
    "find ./*_*/SRX* -mindepth 0 -maxdepth 0 | parallel -j 17 \"$cwd/align.sh {} 2\""
   ]
  }
 ],
 "metadata": {
  "celltoolbar": "Raw Cell Format",
  "kernelspec": {
   "display_name": "Bash",
   "language": "bash",
   "name": "bash"
  },
  "language_info": {
   "codemirror_mode": "shell",
   "file_extension": ".sh",
   "mimetype": "text/x-sh",
   "name": "bash"
  }
 },
 "nbformat": 4,
 "nbformat_minor": 2
}
